{
  "nbformat": 4,
  "nbformat_minor": 0,
  "metadata": {
    "colab": {
      "name": "NumPy - Deep Learning với Trituenhantao.io",
      "provenance": [],
      "collapsed_sections": [],
      "include_colab_link": true
    },
    "kernelspec": {
      "display_name": "Python 3",
      "language": "python",
      "name": "python3"
    }
  },
  "cells": [
    {
      "cell_type": "markdown",
      "metadata": {
        "id": "view-in-github",
        "colab_type": "text"
      },
      "source": [
        "<a href=\"https://colab.research.google.com/github/trituenhantaoio/Numpy-Tutorial/blob/master/NumPy_Deep_Learning_v%E1%BB%9Bi_Trituenhantao_io.ipynb\" target=\"_parent\"><img src=\"https://colab.research.google.com/assets/colab-badge.svg\" alt=\"Open In Colab\"/></a>"
      ]
    },
    {
      "cell_type": "markdown",
      "metadata": {
        "id": "7UV8v2kdVscb",
        "colab_type": "text"
      },
      "source": [
        "# Giới thiệu về NumPy\n",
        "\n",
        "NumPy là gói cơ bản trong Python phục vụ tính toán khoa học. NumPy được sử dụng trong rất nhiều các package khác dù cho bạn có biết điều đó hay không.\n",
        "\n",
        "Về bản chất, NumPy là một thư viện python cung cấp các đối tượng mảng đa chiều và dẫn xuất của chúng. Bên cạnh đó, NumPy có cơ chế thao tác nhanh trên mảng và một loạt các phép toán cao cấp khác.\n",
        "\n"
      ]
    },
    {
      "cell_type": "markdown",
      "metadata": {
        "id": "fkjpKVmZVscc",
        "colab_type": "text"
      },
      "source": [
        "#### Nạp numpy vào chương trình"
      ]
    },
    {
      "cell_type": "code",
      "metadata": {
        "id": "oFl5JU9fVscd",
        "colab_type": "code",
        "colab": {}
      },
      "source": [
        "import numpy as np"
      ],
      "execution_count": null,
      "outputs": []
    },
    {
      "cell_type": "markdown",
      "metadata": {
        "id": "Wi_iVJZcVsch",
        "colab_type": "text"
      },
      "source": [
        "#### Tạo mảng từ danh sách\n",
        "\n",
        "Numpy cho phép tạo mảng từ danh sách.\n",
        "\n",
        "Mỗi mảng chứa một thuộc tính là `shape` quy định các chiều của mảng. Ví dụ (3, 4, 5) tức là ta có 3 phần tử ở chiều 0, 4 phần tử ở chiều 1 và 5 phần tử ở chiều 2. Và thông thường thì ta chỉ sử dụng 1 đến 2 chiều.\n",
        "\n",
        "Lưu ý, với mảng 1 chiều thì `shape` vẫn phải được lưu ở dạng tupple chứ không phải dạng số (tức là `(3, )` thay vì `3`. Bạn có thể tự xác nhận điều này, hãy thử tạo một mảng và kiểm tra `shape` của nó. Ví dụ như `np.array([1, 2, 3]).shape` "
      ]
    },
    {
      "cell_type": "code",
      "metadata": {
        "id": "hiCYmtPGVsch",
        "colab_type": "code",
        "colab": {}
      },
      "source": [
        "np.array([1, 2, 3]).shape"
      ],
      "execution_count": null,
      "outputs": []
    },
    {
      "cell_type": "markdown",
      "metadata": {
        "id": "stlK-cUIVscm",
        "colab_type": "text"
      },
      "source": [
        "#### Tạo mảng từ danh sách của danh sách\n",
        "\n",
        "`shape` của mảng dưới đây là (2, 2) do đó nó là một ma trận."
      ]
    },
    {
      "cell_type": "code",
      "metadata": {
        "id": "0R0OYUEgVscn",
        "colab_type": "code",
        "colab": {}
      },
      "source": [
        "np.array([[1, 2], [3, 4]])"
      ],
      "execution_count": null,
      "outputs": []
    },
    {
      "cell_type": "markdown",
      "metadata": {
        "id": "XlI6D-_IVscq",
        "colab_type": "text"
      },
      "source": [
        "#### Dùng hàm để tạo mảng\n",
        "\n",
        "Mảng trong các ví dụ trước được tạo bởi việc chúng ta truyền vào các giá trị. Mặc dù vậy trong thực tế, đôi khi chúng ta cần tạo ra các mảng có số phần tử rất lớn, khi đó ta phải dùng đến hàm.\n",
        "\n",
        "Hai hàm hay được sử dụng nhất là `zeros` và `ones`. Chúng cần tham số chứa thông tin về `shape` của mảng cần tạo.\n",
        "* `zeros` tạo ra mảng với toàn phần tử 0 [xem thêm](https://docs.scipy.org/doc/numpy/reference/generated/numpy.zeros.html)\n",
        "* `ones`  tạo ra mảng với toàn phần tử 1 [xem thêm](https://docs.scipy.org/doc/numpy/reference/generated/numpy.ones.html#numpy.ones)"
      ]
    },
    {
      "cell_type": "code",
      "metadata": {
        "id": "VbIimhBLVscr",
        "colab_type": "code",
        "colab": {}
      },
      "source": [
        "np.zeros((2, 3))"
      ],
      "execution_count": null,
      "outputs": []
    },
    {
      "cell_type": "code",
      "metadata": {
        "id": "2ehKzKEsVsct",
        "colab_type": "code",
        "colab": {}
      },
      "source": [
        "np.ones((3, 2))"
      ],
      "execution_count": null,
      "outputs": []
    },
    {
      "cell_type": "markdown",
      "metadata": {
        "id": "SYWOfj3GVscx",
        "colab_type": "text"
      },
      "source": [
        "#### Tạo mảng bắt đầu tại 0, số gia 2 và kết thúc trước 10\n",
        "\n",
        "`arange` giống với `range` trong python thông thường ngoại trừ việc trả lại một mảng numpy.\n",
        "\n",
        "Hàm này yêu cầu tối thiểu một đối số là điểm kết thúc. Điểm bắt đầu mặc định bằng 0 và số gia mặc định bằng 1.\n",
        "\n",
        "Với biến thể dưới đây, chúng ta truyền vào 3 tham số lần lượt là điểm bắt đầu, điểm kết thúc và số gia.\n",
        "\n",
        "[Xem thêm tại đây](https://docs.scipy.org/doc/numpy/reference/generated/numpy.arange.html)"
      ]
    },
    {
      "cell_type": "code",
      "metadata": {
        "id": "YmUE2XZIVscx",
        "colab_type": "code",
        "colab": {}
      },
      "source": [
        "np.arange(0, 10, 2)"
      ],
      "execution_count": null,
      "outputs": []
    },
    {
      "cell_type": "markdown",
      "metadata": {
        "id": "WgfvR8_eVsc0",
        "colab_type": "text"
      },
      "source": [
        "#### Tạo mảng gồm 4 phần tử cách đều bao gồm cả điểm kết thúc"
      ]
    },
    {
      "cell_type": "code",
      "metadata": {
        "id": "CmQ2LtbjVsc2",
        "colab_type": "code",
        "colab": {}
      },
      "source": [
        "np.linspace(0, 1, 4)"
      ],
      "execution_count": null,
      "outputs": []
    },
    {
      "cell_type": "markdown",
      "metadata": {
        "id": "pSwe4s-6Vsc6",
        "colab_type": "text"
      },
      "source": [
        "#### Tạo mảng với các phần tử ngẫu nhiên (tuân theo phân bố chuẩn)\n",
        "\n",
        "Mô đun `random` của numpy chứa nhiều biến thể khác nhau để tạo ra các số ngẫu nhiêm tuân theo một phân bố xác suất hoặc một mẫu từ các lựa chọn hữu hạn. Bạn có thể đọc thêm [tại đây](https://docs.scipy.org/doc/numpy/reference/routines.random.html). "
      ]
    },
    {
      "cell_type": "code",
      "metadata": {
        "id": "rIVnHqRNVsc6",
        "colab_type": "code",
        "colab": {}
      },
      "source": [
        "mean = 10\n",
        "stdev = 3\n",
        "number_values = 20\n",
        "np.random.normal(mean, stdev, number_values)"
      ],
      "execution_count": null,
      "outputs": []
    },
    {
      "cell_type": "markdown",
      "metadata": {
        "id": "gPZuEtnjVsc9",
        "colab_type": "text"
      },
      "source": [
        "## Chỉ số mảng\n",
        "#### Lấy ra phần tử đầu vào cuối của mảng một chiều.\n",
        "\n",
        "Python giống với nhiều ngôn ngữ lập trình khác, chỉ số mảng bắt đầu từ 0, do đó phần tử đầu tiên ở vị trí 0.\n",
        "\n",
        "Để truy cập phần tử cuối cùng ta dùng chỉ số -1. `x[-1]` có giá trị giống với `x[x.shape[0] - 1]` trong đó `shape[0]` là độ dài của mảng."
      ]
    },
    {
      "cell_type": "code",
      "metadata": {
        "id": "TTfE_CDUVsc-",
        "colab_type": "code",
        "colab": {}
      },
      "source": [
        "x = np.arange(4)\n",
        "\n",
        "print(x[0])\n",
        "print(x[-1])"
      ],
      "execution_count": null,
      "outputs": []
    },
    {
      "cell_type": "markdown",
      "metadata": {
        "id": "TzlouFp2VsdD",
        "colab_type": "text"
      },
      "source": [
        "#### Định hình lại mảng\n",
        "\n",
        "Luôn nhớ rằng `shape` là thuộc tính cơ bản của mọi mảng và chúng ta có thể thay đổi nó theo nhu cầu. Đây là thao tác rất hay được sử dụng. Để định hình lại mảng, chúng ta sử dụng phương thức `reshape`.\n",
        "\n",
        "Đoạn code dưới đây tạo ra một mảng 1D (một chiều) với 6 phần tử sử dụng hàm `arange`.\n",
        "\n",
        "Chúng ta sẽ biến đổi nó thành mảng 2 chiều với phương thức `reshape`.\n",
        "\n",
        "Bạn thấy rằng tổng số các số không đổi, chúng ta chỉ thay đổi cách quan sát chúng. 6 phần tử trong một véc tơ được chuyển thành 3 x 2 phần tử trong một ma trận.\n",
        "\n",
        "Bạn cần lưu ý về số phần tử để tránh gặp lỗi khi dùng `reshape`. 6 = 3 x 2 là hợp lý nhưng nếu bạn dùng `np.arange(6).reshape(4, 2)`, lỗi sẽ xảy.\n",
        "\n",
        "[Đọc thêm tại đây](https://docs.scipy.org/doc/numpy/reference/generated/numpy.reshape.html)"
      ]
    },
    {
      "cell_type": "code",
      "metadata": {
        "id": "L-99GhjBVsdE",
        "colab_type": "code",
        "colab": {}
      },
      "source": [
        "x = np.arange(6).reshape(2, 3)\n",
        "print(x)"
      ],
      "execution_count": null,
      "outputs": []
    },
    {
      "cell_type": "markdown",
      "metadata": {
        "id": "PJwakKH2VsdG",
        "colab_type": "text"
      },
      "source": [
        "#### Lấy dòng cuối\n",
        "\n",
        "Khi làm việc với mảng đa chiều, chúng ta có thể sử dụng chỉ số để lấy ra các mảng thành phần mà ta cần. Hoạt động này có tên gọi là `slice`.\n",
        "\n",
        "Ví dụ `print(x[-1])` sẽ in ra **hàng** cuối cùng.\n",
        "\n",
        "Để lấy được cột cuối cùng, ta cần chuyển vị ma trận (mảng 2 chiều) rồi sử dụng chỉ số [-1]. \n",
        "\n",
        "Ví dụ `print(x.T[-1])` sẽ lấy ra cột cuối cùng. `x.T` là chuyển vị của `x`"
      ]
    },
    {
      "cell_type": "code",
      "metadata": {
        "id": "eRzSoVEBVsdH",
        "colab_type": "code",
        "colab": {}
      },
      "source": [
        "print(x[-1])"
      ],
      "execution_count": null,
      "outputs": []
    },
    {
      "cell_type": "markdown",
      "metadata": {
        "id": "lLqO8U4ZVsdL",
        "colab_type": "text"
      },
      "source": [
        "#### Lấy phần tử cuối của hàng cuối\n",
        "\n",
        "Đây là chỉ số đầy đủ của **phần tử** cuối."
      ]
    },
    {
      "cell_type": "code",
      "metadata": {
        "id": "ktEhAKY0VsdL",
        "colab_type": "code",
        "colab": {}
      },
      "source": [
        "print(x[-1, -1])"
      ],
      "execution_count": null,
      "outputs": []
    },
    {
      "cell_type": "markdown",
      "metadata": {
        "id": "S_vuadjsVsdO",
        "colab_type": "text"
      },
      "source": [
        "#### Lấy ra các phần tử dưới dạng danh sách\n",
        "\n",
        "Cú pháp `a:b` giúp ta lấy ra tất cả các phần tử có vị trí thỏa mãn.\n",
        "\n",
        "Ví dụ với `y = [1, 3, 5, 7, 9]` thì `y[0:2]` sẽ cho chúng ta 2 phần tử đầu tiên `[1, 3]`.\n",
        "\n",
        "Chỉ số âm (ví dụ -3) sẽ trỏ đến phần tử thứ 3 từ vị trí cuối cùng.\n",
        "\n",
        "Hãy thử các bộ giá trị khác nhau cho đến khi bạn quen với nó."
      ]
    },
    {
      "cell_type": "code",
      "metadata": {
        "id": "Q6coPcKdVsdO",
        "colab_type": "code",
        "colab": {}
      },
      "source": [
        "x = np.arange(10) \n",
        "\n",
        "print(x)\n",
        "print(x[:3])\n",
        "print(x[1:4])\n",
        "print(x[-3:])"
      ],
      "execution_count": null,
      "outputs": []
    },
    {
      "cell_type": "markdown",
      "metadata": {
        "id": "u0LUGU7QVsdR",
        "colab_type": "text"
      },
      "source": [
        "#### Lấy các phần tử theo thứ tự ngược lại\n",
        "\n",
        "Cú pháp `a:b:c` với `c` là số gia cho phép chúng ta lấy các phần tử linh hoạt hơn. Ví dụ `0:10:2`.\n",
        "\n",
        "Nếu ta để trống `a` và `b`, phạm vi lấy của ta là toàn bộ danh sách.\n",
        "\n",
        "Do đó ví dụ như `::2` sẽ lấy ra các phần tử từ 0 đến cuối với số bước nhảy là 2. \n",
        "\n",
        "Nếu chúng ta dùng số gia âm (ví dụ `::-1`) ta sẽ lấy các phần tử theo thứ tự ngược lại.\n",
        "\n",
        "Một dạng hay dùng của `::1` có thể viết ngắn gọn là `:` sẽ cho ta toàn bộ các phần tử theo thứ tự ban đầu."
      ]
    },
    {
      "cell_type": "code",
      "metadata": {
        "id": "4UzObVzGVsdS",
        "colab_type": "code",
        "colab": {}
      },
      "source": [
        "print(x[::-1])\n",
        "print(x[::2])\n",
        "print(x[::3])"
      ],
      "execution_count": null,
      "outputs": []
    },
    {
      "cell_type": "markdown",
      "metadata": {
        "id": "gTtzstSeVsdZ",
        "colab_type": "text"
      },
      "source": [
        "#### Tạo ma trận 5x5"
      ]
    },
    {
      "cell_type": "code",
      "metadata": {
        "id": "QGlTQXhwVsda",
        "colab_type": "code",
        "colab": {}
      },
      "source": [
        "x = np.arange(25).reshape(5, 5)\n",
        "print(x)"
      ],
      "execution_count": null,
      "outputs": []
    },
    {
      "cell_type": "markdown",
      "metadata": {
        "id": "13f9XrWfVsdc",
        "colab_type": "text"
      },
      "source": [
        "#### Lấy hai dòng đầu và hai cột đầu\n",
        "\n",
        "Đến giờ bạn có thể `slice` trên mảng 1 chiều, và thực tế hoạt động này có thể thực hiện một cách tổng quát trên mảng nhiều chiều.\n",
        "\n",
        "Phương pháp ở đây là ta áp dụng `slice` trên tất cả các chiều.\n",
        "\n",
        "Trong ví dụ này, ta có một mảng 2 chiều nên ta sẽ thực hiện như sau:"
      ]
    },
    {
      "cell_type": "code",
      "metadata": {
        "id": "sU273gC3Vsdd",
        "colab_type": "code",
        "colab": {}
      },
      "source": [
        "print(x[:2, :2])"
      ],
      "execution_count": null,
      "outputs": []
    },
    {
      "cell_type": "markdown",
      "metadata": {
        "id": "k4o5CSY-Vsdg",
        "colab_type": "text"
      },
      "source": [
        "#### Ta cùng có thể dùng cú pháp sau để lấy các phần tử một cách nhảy cóc"
      ]
    },
    {
      "cell_type": "code",
      "metadata": {
        "id": "v1RkC6_XVsdg",
        "colab_type": "code",
        "colab": {}
      },
      "source": [
        "print(x[::2, ::2])"
      ],
      "execution_count": null,
      "outputs": []
    },
    {
      "cell_type": "markdown",
      "metadata": {
        "id": "VUN97--UVsdj",
        "colab_type": "text"
      },
      "source": [
        "## Lấy các phần tử với mảng chỉ số"
      ]
    },
    {
      "cell_type": "markdown",
      "metadata": {
        "id": "LpR2l52dVsdj",
        "colab_type": "text"
      },
      "source": [
        "#### Tạo ra 6 phần tử ngẫu nhiên trong đoạn [0, 9]\n",
        "\n",
        "`randint` trong `np.random` là hàm hữu ích trong việc tạo ra các số nguyên theo một phân bố đồng nhất trong đoạn nằm giữa hai tham số đầu tiên. Tham số thứ 3 là số các số mà ta cần."
      ]
    },
    {
      "cell_type": "code",
      "metadata": {
        "id": "1nY57f_oVsdk",
        "colab_type": "code",
        "colab": {}
      },
      "source": [
        "x = np.random.randint(0, 10, 6) \n",
        "print(x)"
      ],
      "execution_count": null,
      "outputs": []
    },
    {
      "cell_type": "markdown",
      "metadata": {
        "id": "bkjGnJKEVsdo",
        "colab_type": "text"
      },
      "source": [
        "#### Lấy số đầu tiên và hai số cuối\n",
        "\n",
        "Để lấy được các phần tử theo một thứ tự bất kỳ, ta có thể sử dụng một mảng chứa các giá trị chỉ số."
      ]
    },
    {
      "cell_type": "code",
      "metadata": {
        "id": "GWxn2lx2Vsdp",
        "colab_type": "code",
        "colab": {}
      },
      "source": [
        "indices = [0, -2, -1]\n",
        "print(x[indices])"
      ],
      "execution_count": null,
      "outputs": []
    },
    {
      "cell_type": "markdown",
      "metadata": {
        "id": "5RfG_quvVsdr",
        "colab_type": "text"
      },
      "source": [
        "#### Tạo ra hai mảng\n",
        "\n",
        "Mảng `x2` được tạo bởi `x1 * -1`. Phép nhân ở đây có ý nghĩa rằng ta nhân tất cả phần tử của `x1` với -1 và trả lại kết quả."
      ]
    },
    {
      "cell_type": "code",
      "metadata": {
        "id": "V46GuSJOVsdr",
        "colab_type": "code",
        "colab": {}
      },
      "source": [
        "arrayLength = 5\n",
        "x1 = np.arange(arrayLength)\n",
        "x2 = np.arange(arrayLength) * -1\n",
        "\n",
        "print(x1)\n",
        "print(x2)"
      ],
      "execution_count": null,
      "outputs": []
    },
    {
      "cell_type": "markdown",
      "metadata": {
        "id": "Qm54IQiiVsdu",
        "colab_type": "text"
      },
      "source": [
        "#### Tráo thứ tự các phần tử của mảng một cách ngẫu nhiên\n",
        "\n",
        "Việc tráo các phần tử của mảng, bản chất là sắp xếp các phần tử theo một thứ tự mới. Do đó ta có thể sinh ra các hoán vị ngẫu nhiên của các chỉ số."
      ]
    },
    {
      "cell_type": "code",
      "metadata": {
        "id": "-XfqUqd8Vsdv",
        "colab_type": "code",
        "colab": {}
      },
      "source": [
        "indices = np.random.permutation(arrayLength)\n",
        "print(indices)"
      ],
      "execution_count": null,
      "outputs": []
    },
    {
      "cell_type": "markdown",
      "metadata": {
        "id": "At69gWFaVsdz",
        "colab_type": "text"
      },
      "source": [
        "#### Sử dụng các chỉ số để sắp xếp lại mảng"
      ]
    },
    {
      "cell_type": "code",
      "metadata": {
        "id": "bqfTE7IEVsd0",
        "colab_type": "code",
        "colab": {}
      },
      "source": [
        "print(x1[indices])\n",
        "print(x2[indices])"
      ],
      "execution_count": null,
      "outputs": []
    },
    {
      "cell_type": "markdown",
      "metadata": {
        "id": "JhA7z7NiVsd5",
        "colab_type": "text"
      },
      "source": [
        "#### Tạo mảng các giá trị logic\n",
        "\n",
        "Bạn sẽ thấy thú vị với câu lệnh `print(x > 2)`.\n",
        "\n",
        "`x > 2` tạo ra một mảng các giá trị logic với mối phần tử có giá trị True hoặc False.\n",
        "Giá trị True tại vị trí i trong kết quả từ là điều kiện đó thỏa mãn tại phần tử của `x` tại vị trí i.\n",
        "\n",
        "Ví dụ với `x=[0,1,2,3,4]` thì `x > 2` sẽ cho kết quả `[False, False, False, True, True]`.\n",
        "\n",
        "Như chúng ta thấy 0 > 2 = False, 1 > 2 = False, 2 > 2 = False, 3 > 2 = True và 4 > 2 = True."
      ]
    },
    {
      "cell_type": "code",
      "metadata": {
        "id": "Wq39t_tDVsd6",
        "colab_type": "code",
        "colab": {}
      },
      "source": [
        "x = np.arange(5)\n",
        "print(x)\n",
        "print(x > 2)"
      ],
      "execution_count": null,
      "outputs": []
    },
    {
      "cell_type": "markdown",
      "metadata": {
        "id": "k5Zv-VArVsd8",
        "colab_type": "text"
      },
      "source": [
        "#### Sử dụng giá trị logic để đánh chỉ số mảng\n",
        "\n",
        "Khi đã có mảng logic, ta có thể dùng nó để đánh chỉ số cho một mảng khác.\n",
        "\n",
        "Quy luật rất đơn giản, `x[i]` được giữ lại trong kết quả nếu ta có True tại vị trí i."
      ]
    },
    {
      "cell_type": "code",
      "metadata": {
        "id": "E4ea2NQwVsd9",
        "colab_type": "code",
        "colab": {}
      },
      "source": [
        "print(x[x > 2])\n",
        "print(x[np.array([False,False,False,True,True])])"
      ],
      "execution_count": null,
      "outputs": []
    },
    {
      "cell_type": "markdown",
      "metadata": {
        "id": "CPA6fxsgVseB",
        "colab_type": "text"
      },
      "source": [
        "## Phép toán trên mảng"
      ]
    },
    {
      "cell_type": "markdown",
      "metadata": {
        "id": "BXU-_j3XYjIx",
        "colab_type": "text"
      },
      "source": [
        "#### Cộng số với mảng"
      ]
    },
    {
      "cell_type": "code",
      "metadata": {
        "id": "77uE0DtkVseC",
        "colab_type": "code",
        "colab": {}
      },
      "source": [
        "x = [1, 2, 3, 4]\n",
        "\n",
        "print(x + 10)"
      ],
      "execution_count": null,
      "outputs": []
    },
    {
      "cell_type": "markdown",
      "metadata": {
        "id": "TmH2s9-aVseE",
        "colab_type": "text"
      },
      "source": [
        "#### Thử lại với mảng của numpy\n",
        "\n",
        "Khi thực hiện với danh sách, lỗi xảy ra vì python không hỗ trợ cộng danh sách với một số.\n",
        "\n",
        "Nhưng mảng numpy cho phép ta thực hiện điều đó"
      ]
    },
    {
      "cell_type": "code",
      "metadata": {
        "id": "oOmv1DBxVseE",
        "colab_type": "code",
        "colab": {}
      },
      "source": [
        "x = np.array(x)\n",
        "\n",
        "print(x)\n",
        "print(x + 10)"
      ],
      "execution_count": null,
      "outputs": []
    },
    {
      "cell_type": "markdown",
      "metadata": {
        "id": "XvwnrdEsVseH",
        "colab_type": "text"
      },
      "source": [
        "## Bài tập"
      ]
    },
    {
      "cell_type": "markdown",
      "metadata": {
        "id": "Xf0nHJl3VseH",
        "colab_type": "text"
      },
      "source": [
        "#### Tạo một mảng từ 0 đến 26 và gán vào biến x"
      ]
    },
    {
      "cell_type": "code",
      "metadata": {
        "id": "CFzHAXotVseI",
        "colab_type": "code",
        "colab": {}
      },
      "source": [
        ""
      ],
      "execution_count": null,
      "outputs": []
    },
    {
      "cell_type": "markdown",
      "metadata": {
        "id": "gSpgRMsjVseK",
        "colab_type": "text"
      },
      "source": [
        "#### Đảo ngược thứ tự của mảng và in ra"
      ]
    },
    {
      "cell_type": "code",
      "metadata": {
        "id": "Xg3yZ1yYVseL",
        "colab_type": "code",
        "colab": {}
      },
      "source": [
        ""
      ],
      "execution_count": null,
      "outputs": []
    },
    {
      "cell_type": "markdown",
      "metadata": {
        "id": "9C0WP05VVseR",
        "colab_type": "text"
      },
      "source": [
        "#### Biến đổi mảng một chiều bạn vừa tạo thành mảng 3 chiều"
      ]
    },
    {
      "cell_type": "code",
      "metadata": {
        "id": "S1EwyyqfVseS",
        "colab_type": "code",
        "colab": {}
      },
      "source": [
        ""
      ],
      "execution_count": null,
      "outputs": []
    },
    {
      "cell_type": "markdown",
      "metadata": {
        "id": "30CSoki5VseU",
        "colab_type": "text"
      },
      "source": [
        "#### Tìm vị trí của phần tử có giá trị bằng 12"
      ]
    },
    {
      "cell_type": "code",
      "metadata": {
        "id": "3en3QEIXVseV",
        "colab_type": "code",
        "colab": {}
      },
      "source": [
        ""
      ],
      "execution_count": null,
      "outputs": []
    },
    {
      "cell_type": "markdown",
      "metadata": {
        "id": "aIawXcgSVseb",
        "colab_type": "text"
      },
      "source": [
        "#### Tạo ra một hoán vị ngẫu nhiên từ 0 đến 19 và gán vào biến y"
      ]
    },
    {
      "cell_type": "code",
      "metadata": {
        "id": "G9hLCgCeVseb",
        "colab_type": "code",
        "colab": {}
      },
      "source": [
        ""
      ],
      "execution_count": null,
      "outputs": []
    },
    {
      "cell_type": "markdown",
      "metadata": {
        "id": "aRe_-tIOVsee",
        "colab_type": "text"
      },
      "source": [
        "#### Tạo một mảng các giá trị logic từ điều kiện rằng các phần tử của y lớn hơn 10"
      ]
    },
    {
      "cell_type": "code",
      "metadata": {
        "id": "wZ3zDBh-Vsee",
        "colab_type": "code",
        "colab": {}
      },
      "source": [
        ""
      ],
      "execution_count": null,
      "outputs": []
    },
    {
      "cell_type": "markdown",
      "metadata": {
        "id": "r8XL5KlKVseg",
        "colab_type": "text"
      },
      "source": [
        "#### Tạo một mẫu gồm 20 điểm dữ liệu từ phân bố chuẩn với trung bình bằng 10 và độ lệch chuẩn bằng 5."
      ]
    },
    {
      "cell_type": "code",
      "metadata": {
        "id": "zwFXB9qbVseh",
        "colab_type": "code",
        "colab": {}
      },
      "source": [
        ""
      ],
      "execution_count": null,
      "outputs": []
    }
  ]
}