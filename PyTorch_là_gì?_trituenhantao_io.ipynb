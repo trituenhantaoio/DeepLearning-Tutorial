{
  "nbformat": 4,
  "nbformat_minor": 0,
  "metadata": {
    "kernelspec": {
      "display_name": "Python 3",
      "language": "python",
      "name": "python3"
    },
    "language_info": {
      "codemirror_mode": {
        "name": "ipython",
        "version": 3
      },
      "file_extension": ".py",
      "mimetype": "text/x-python",
      "name": "python",
      "nbconvert_exporter": "python",
      "pygments_lexer": "ipython3",
      "version": "3.6.8"
    },
    "colab": {
      "name": "PyTorch là gì? - trituenhantao.io",
      "provenance": [],
      "collapsed_sections": [],
      "include_colab_link": true
    },
    "accelerator": "GPU"
  },
  "cells": [
    {
      "cell_type": "markdown",
      "metadata": {
        "id": "view-in-github",
        "colab_type": "text"
      },
      "source": [
        "<a href=\"https://colab.research.google.com/github/trituenhantaoio/DeepLearning-Tutorial/blob/master/PyTorch_l%C3%A0_g%C3%AC%3F_trituenhantao_io.ipynb\" target=\"_parent\"><img src=\"https://colab.research.google.com/assets/colab-badge.svg\" alt=\"Open In Colab\"/></a>"
      ]
    },
    {
      "cell_type": "markdown",
      "metadata": {
        "id": "GBLJgwF-dENA",
        "colab_type": "text"
      },
      "source": [
        "\n",
        "PyTorch là gì?\n",
        "================\n",
        "\n",
        "PyTorch là một gói tính toán khoa học trên Python phục vụ hai mục đích:\n",
        "\n",
        "-  Thay thế NumPy để có thể tận dụng năng lực của GPU\n",
        "-  Nền tảng nghiên cứu deep learning với tốc độ và tính linh hoạt tối đa\n",
        "\n",
        "Khái niệm Tensor\n",
        "--------\n",
        "\n",
        "Tensor giống với kiểu ndarrays của NumPy nhưng có thể tận dụng được năng lực của GPU\n",
        "\n"
      ]
    },
    {
      "cell_type": "code",
      "metadata": {
        "id": "epzbXprPdENB",
        "colab_type": "code",
        "colab": {}
      },
      "source": [
        "from __future__ import print_function\n",
        "import torch"
      ],
      "execution_count": null,
      "outputs": []
    },
    {
      "cell_type": "markdown",
      "metadata": {
        "id": "FDOiiGyNdENF",
        "colab_type": "text"
      },
      "source": [
        "<div class=\"alert alert-info\"><h4>Lưu ý</h4><p>Một ma trận được khai báo nhưng chưa được khởi tạo sẽ chứa các giá trị ngẫu nhiên ứng với vùng nhớ được cấp phát.</p></div>\n",
        "\n"
      ]
    },
    {
      "cell_type": "markdown",
      "metadata": {
        "id": "pTxpVLBMdENG",
        "colab_type": "text"
      },
      "source": [
        "Một ma trận 5x3 chưa được khởi tạo:\n",
        "\n"
      ]
    },
    {
      "cell_type": "code",
      "metadata": {
        "id": "vk6kvIJvdENH",
        "colab_type": "code",
        "colab": {
          "base_uri": "https://localhost:8080/",
          "height": 102
        },
        "outputId": "853f1d62-e0fc-4df0-ea95-1d4b494ea1aa"
      },
      "source": [
        "x = torch.empty(5, 3)\n",
        "print(x)"
      ],
      "execution_count": null,
      "outputs": [
        {
          "output_type": "stream",
          "text": [
            "tensor([[3.2372e-35, 0.0000e+00, 3.3631e-44],\n",
            "        [0.0000e+00,        nan, 4.4842e-44],\n",
            "        [1.1578e+27, 1.1362e+30, 7.1547e+22],\n",
            "        [4.5828e+30, 1.2121e+04, 7.1846e+22],\n",
            "        [9.2198e-39, 7.0374e+22, 1.1708e-19]])\n"
          ],
          "name": "stdout"
        }
      ]
    },
    {
      "cell_type": "markdown",
      "metadata": {
        "id": "OPeVMTscdENM",
        "colab_type": "text"
      },
      "source": [
        "Tạo và khởi tạo một ma trận ngẫu nhiên:\n",
        "\n"
      ]
    },
    {
      "cell_type": "code",
      "metadata": {
        "id": "AMlwHIq2dENN",
        "colab_type": "code",
        "colab": {
          "base_uri": "https://localhost:8080/",
          "height": 102
        },
        "outputId": "e1744d2e-bb67-420b-f736-a47ec020388a"
      },
      "source": [
        "x = torch.rand(5, 3)\n",
        "print(x)"
      ],
      "execution_count": null,
      "outputs": [
        {
          "output_type": "stream",
          "text": [
            "tensor([[0.1361, 0.7655, 0.5600],\n",
            "        [0.9114, 0.6982, 0.9220],\n",
            "        [0.9907, 0.4667, 0.6908],\n",
            "        [0.1704, 0.9689, 0.5001],\n",
            "        [0.9206, 0.1919, 0.5747]])\n"
          ],
          "name": "stdout"
        }
      ]
    },
    {
      "cell_type": "markdown",
      "metadata": {
        "id": "oPXZQ_nUdENR",
        "colab_type": "text"
      },
      "source": [
        "Tạo một ma trận toàn số 0 với kiểu `long`:\n",
        "\n"
      ]
    },
    {
      "cell_type": "code",
      "metadata": {
        "id": "wvlHXupbdENS",
        "colab_type": "code",
        "colab": {
          "base_uri": "https://localhost:8080/",
          "height": 102
        },
        "outputId": "e6750bb7-430e-4e22-9738-efbef882371a"
      },
      "source": [
        "x = torch.zeros(5, 3, dtype=torch.long)\n",
        "print(x)"
      ],
      "execution_count": null,
      "outputs": [
        {
          "output_type": "stream",
          "text": [
            "tensor([[0, 0, 0],\n",
            "        [0, 0, 0],\n",
            "        [0, 0, 0],\n",
            "        [0, 0, 0],\n",
            "        [0, 0, 0]])\n"
          ],
          "name": "stdout"
        }
      ]
    },
    {
      "cell_type": "markdown",
      "metadata": {
        "id": "guh--OsBdENW",
        "colab_type": "text"
      },
      "source": [
        "Tạo một tensor trực tiếp từ dữ liệu:\n",
        "\n"
      ]
    },
    {
      "cell_type": "code",
      "metadata": {
        "id": "7g2KQ9wrdENX",
        "colab_type": "code",
        "colab": {
          "base_uri": "https://localhost:8080/",
          "height": 34
        },
        "outputId": "01b982f7-b6d2-4daf-a4f4-e0a84e391810"
      },
      "source": [
        "x = torch.tensor([5.5, 3])\n",
        "print(x)"
      ],
      "execution_count": null,
      "outputs": [
        {
          "output_type": "stream",
          "text": [
            "tensor([5.5000, 3.0000])\n"
          ],
          "name": "stdout"
        }
      ]
    },
    {
      "cell_type": "markdown",
      "metadata": {
        "id": "jGdRz2BBdENd",
        "colab_type": "text"
      },
      "source": [
        "Tạo một tensor từ một tensor có trước đó. Phương thức này sẽ sử dụng lại các thuộc tính của tensor đầu vào như kiểu dữ liệu nhưng không sao chép các giá trị chỉ định bởi người dùng.\n",
        "\n"
      ]
    },
    {
      "cell_type": "code",
      "metadata": {
        "id": "DCYz-avWdENf",
        "colab_type": "code",
        "colab": {
          "base_uri": "https://localhost:8080/",
          "height": 187
        },
        "outputId": "84bb8e5a-7c8e-4d27-ea53-a2188e1a1278"
      },
      "source": [
        "x = x.new_ones(5, 3, dtype=torch.double)      # new_* methods take in sizes\n",
        "print(x)\n",
        "\n",
        "x = torch.randn_like(x, dtype=torch.float)    # override dtype!\n",
        "print(x)                                      # result has the same size"
      ],
      "execution_count": null,
      "outputs": [
        {
          "output_type": "stream",
          "text": [
            "tensor([[1., 1., 1.],\n",
            "        [1., 1., 1.],\n",
            "        [1., 1., 1.],\n",
            "        [1., 1., 1.],\n",
            "        [1., 1., 1.]], dtype=torch.float64)\n",
            "tensor([[ 0.9655, -0.9916,  0.9088],\n",
            "        [-1.0298, -1.4540,  0.1742],\n",
            "        [-0.4296, -0.3974,  0.7019],\n",
            "        [ 0.8502,  1.3975, -0.4322],\n",
            "        [ 0.4934,  0.4787,  0.4768]])\n"
          ],
          "name": "stdout"
        }
      ]
    },
    {
      "cell_type": "markdown",
      "metadata": {
        "id": "d57xg591dENj",
        "colab_type": "text"
      },
      "source": [
        "Lấy thông tin về kích thước:\n",
        "\n"
      ]
    },
    {
      "cell_type": "code",
      "metadata": {
        "id": "a3z4BiqBdENj",
        "colab_type": "code",
        "colab": {
          "base_uri": "https://localhost:8080/",
          "height": 34
        },
        "outputId": "14136b69-cba7-4b5c-c45c-2c7d32ad355d"
      },
      "source": [
        "print(x.size())"
      ],
      "execution_count": null,
      "outputs": [
        {
          "output_type": "stream",
          "text": [
            "torch.Size([5, 3])\n"
          ],
          "name": "stdout"
        }
      ]
    },
    {
      "cell_type": "markdown",
      "metadata": {
        "id": "EpjgRFD0dENn",
        "colab_type": "text"
      },
      "source": [
        "<div class=\"alert alert-info\"><h4>Lưu ý</h4><p>``torch.Size`` có dạng tuple nên nó hỗ trợ các toán tử trên tuple.</p></div>\n",
        "\n",
        "\n",
        "\n"
      ]
    },
    {
      "cell_type": "markdown",
      "metadata": {
        "id": "tSctBmCIqPSq",
        "colab_type": "text"
      },
      "source": [
        "Các phép tính\n",
        "-------------\n",
        "Có nhiều cú pháp để thực hiện các phép tính. Dưới đây là phép cộng\n",
        "\n",
        "Phép cộng: cú pháp 1"
      ]
    },
    {
      "cell_type": "code",
      "metadata": {
        "id": "NsJyn6uPdENn",
        "colab_type": "code",
        "colab": {
          "base_uri": "https://localhost:8080/",
          "height": 102
        },
        "outputId": "c3f11ae3-2871-4612-fb6f-ecc4bfce931f"
      },
      "source": [
        "y = torch.rand(5, 3)\n",
        "print(x + y)"
      ],
      "execution_count": null,
      "outputs": [
        {
          "output_type": "stream",
          "text": [
            "tensor([[ 1.8471, -0.1484,  1.5518],\n",
            "        [-0.6006, -0.7000,  1.0789],\n",
            "        [-0.2447, -0.2121,  1.3138],\n",
            "        [ 1.5165,  1.5652, -0.2420],\n",
            "        [ 0.5450,  0.9149,  0.8941]])\n"
          ],
          "name": "stdout"
        }
      ]
    },
    {
      "cell_type": "markdown",
      "metadata": {
        "id": "je-UDU_xdENs",
        "colab_type": "text"
      },
      "source": [
        "Phép cộng: cú pháp 2"
      ]
    },
    {
      "cell_type": "code",
      "metadata": {
        "id": "K5lqRQXAdENs",
        "colab_type": "code",
        "colab": {
          "base_uri": "https://localhost:8080/",
          "height": 102
        },
        "outputId": "410fb284-7b45-48d2-bfcb-2bd69a2d2551"
      },
      "source": [
        "print(torch.add(x, y))"
      ],
      "execution_count": null,
      "outputs": [
        {
          "output_type": "stream",
          "text": [
            "tensor([[ 1.8471, -0.1484,  1.5518],\n",
            "        [-0.6006, -0.7000,  1.0789],\n",
            "        [-0.2447, -0.2121,  1.3138],\n",
            "        [ 1.5165,  1.5652, -0.2420],\n",
            "        [ 0.5450,  0.9149,  0.8941]])\n"
          ],
          "name": "stdout"
        }
      ]
    },
    {
      "cell_type": "markdown",
      "metadata": {
        "id": "GKBdG9NSdENy",
        "colab_type": "text"
      },
      "source": [
        "Phép cộng: tensor kết quả được coi như một đối số\n",
        "\n"
      ]
    },
    {
      "cell_type": "code",
      "metadata": {
        "id": "pcZEumZIdENz",
        "colab_type": "code",
        "colab": {
          "base_uri": "https://localhost:8080/",
          "height": 102
        },
        "outputId": "dfd09cc4-28d7-4e3a-9f1a-57c7cc8247b0"
      },
      "source": [
        "result = torch.empty(5, 3)\n",
        "torch.add(x, y, out=result)\n",
        "print(result)"
      ],
      "execution_count": null,
      "outputs": [
        {
          "output_type": "stream",
          "text": [
            "tensor([[ 1.8471, -0.1484,  1.5518],\n",
            "        [-0.6006, -0.7000,  1.0789],\n",
            "        [-0.2447, -0.2121,  1.3138],\n",
            "        [ 1.5165,  1.5652, -0.2420],\n",
            "        [ 0.5450,  0.9149,  0.8941]])\n"
          ],
          "name": "stdout"
        }
      ]
    },
    {
      "cell_type": "markdown",
      "metadata": {
        "id": "12ZeyPwHdEN2",
        "colab_type": "text"
      },
      "source": [
        "Phép cộng: dạng in-place\n",
        "\n"
      ]
    },
    {
      "cell_type": "code",
      "metadata": {
        "id": "qFcPkt1LdEN3",
        "colab_type": "code",
        "colab": {
          "base_uri": "https://localhost:8080/",
          "height": 102
        },
        "outputId": "0a044ef9-d6db-4a6c-8cf5-c69b467606ef"
      },
      "source": [
        "# adds x to y\n",
        "y.add_(x)\n",
        "print(y)"
      ],
      "execution_count": null,
      "outputs": [
        {
          "output_type": "stream",
          "text": [
            "tensor([[ 1.8471, -0.1484,  1.5518],\n",
            "        [-0.6006, -0.7000,  1.0789],\n",
            "        [-0.2447, -0.2121,  1.3138],\n",
            "        [ 1.5165,  1.5652, -0.2420],\n",
            "        [ 0.5450,  0.9149,  0.8941]])\n"
          ],
          "name": "stdout"
        }
      ]
    },
    {
      "cell_type": "markdown",
      "metadata": {
        "id": "YHsjnNQ2dEN6",
        "colab_type": "text"
      },
      "source": [
        "<h4>Lưu ý</h4>\n",
        "\n",
        "Các toán tử dạng in-place trên tensor đều kết thúc bằng ký tự ``_``.\n",
        "    Ví dụ: `x.copy_(y)`, `x.t_()`, sẽ làm thay đổi giá trị của ``x``.\n",
        "\n",
        "Ta có thể sử dụng cách đánh chỉ số giống NumPy trên PyTorch.\n",
        "\n"
      ]
    },
    {
      "cell_type": "code",
      "metadata": {
        "id": "vH1WpuJ6dEN7",
        "colab_type": "code",
        "colab": {
          "base_uri": "https://localhost:8080/",
          "height": 34
        },
        "outputId": "3071b03d-4349-400d-d0ae-98cc916b1aee"
      },
      "source": [
        "print(x[:, 1])"
      ],
      "execution_count": null,
      "outputs": [
        {
          "output_type": "stream",
          "text": [
            "tensor([-0.9916, -1.4540, -0.3974,  1.3975,  0.4787])\n"
          ],
          "name": "stdout"
        }
      ]
    },
    {
      "cell_type": "code",
      "metadata": {
        "id": "IuGySKA4ysKe",
        "colab_type": "code",
        "colab": {
          "base_uri": "https://localhost:8080/",
          "height": 102
        },
        "outputId": "5809f4cd-2f87-48e6-ba96-7151eb3ba7fb"
      },
      "source": [
        "print(x)"
      ],
      "execution_count": null,
      "outputs": [
        {
          "output_type": "stream",
          "text": [
            "tensor([[ 0.9655, -0.9916,  0.9088],\n",
            "        [-1.0298, -1.4540,  0.1742],\n",
            "        [-0.4296, -0.3974,  0.7019],\n",
            "        [ 0.8502,  1.3975, -0.4322],\n",
            "        [ 0.4934,  0.4787,  0.4768]])\n"
          ],
          "name": "stdout"
        }
      ]
    },
    {
      "cell_type": "markdown",
      "metadata": {
        "id": "GycogsildEOA",
        "colab_type": "text"
      },
      "source": [
        "Định dạng lại tensor: Nếu muốn định hình (định dạng) lại một tensor, bạn có thể sử dụng ``torch.view``:\n",
        "\n"
      ]
    },
    {
      "cell_type": "code",
      "metadata": {
        "id": "9nSTinGSdEOA",
        "colab_type": "code",
        "colab": {
          "base_uri": "https://localhost:8080/",
          "height": 34
        },
        "outputId": "9fe7a8b0-5b50-46ad-b370-6ad91e1ffe6b"
      },
      "source": [
        "x = torch.randn(4, 4)\n",
        "y = x.view(16)\n",
        "z = x.view(-1, 8)  # the size -1 is inferred from other dimensions\n",
        "print(x.size(), y.size(), z.size())"
      ],
      "execution_count": null,
      "outputs": [
        {
          "output_type": "stream",
          "text": [
            "torch.Size([4, 4]) torch.Size([16]) torch.Size([2, 8])\n"
          ],
          "name": "stdout"
        }
      ]
    },
    {
      "cell_type": "markdown",
      "metadata": {
        "id": "T6RZDgQ6dEOD",
        "colab_type": "text"
      },
      "source": [
        "Với tensor có 1 phần tử, ta có thể sử dụng ``.item()`` để lấy ra giá trị số của nó\n",
        "\n"
      ]
    },
    {
      "cell_type": "code",
      "metadata": {
        "id": "K5mDu3GsdEOE",
        "colab_type": "code",
        "colab": {
          "base_uri": "https://localhost:8080/",
          "height": 51
        },
        "outputId": "b89e429a-9cc4-4860-daf4-d690237b9374"
      },
      "source": [
        "x = torch.randn(1)\n",
        "print(x)\n",
        "print(x.item())"
      ],
      "execution_count": null,
      "outputs": [
        {
          "output_type": "stream",
          "text": [
            "tensor([0.3834])\n",
            "0.383449524641037\n"
          ],
          "name": "stdout"
        }
      ]
    },
    {
      "cell_type": "markdown",
      "metadata": {
        "id": "B7aAFdXodEOI",
        "colab_type": "text"
      },
      "source": [
        "**Đọc thêm:**\n",
        "\n",
        "\n",
        "  Hơn 100 phép toán trên Tensor bao gồm chuyển vị, đánh chỉ mục, slicing, phép toán trên ma trận, đại số tuyến tính, các số ngẫu nhiên v..v.. được mô tả tại [đây](https://pytorch.org/docs/torch).\n",
        "\n",
        "Chuyển đổi với NumPy\n",
        "------------\n",
        "\n",
        "Việc chuyển đổi Tensor của Torch sang Numpy và ngược lại được thực hiện rất đơn giản.\n",
        "\n",
        "Hai kiểu dữ liệu này có chung bộ nhớ được cấp phát (với Tensor nằm trên CPU).\n",
        "\n",
        "Chuyển đổi Torch Tensor thành NumPy Array\n",
        "\n",
        "\n"
      ]
    },
    {
      "cell_type": "code",
      "metadata": {
        "id": "_5jLQDgrdEOJ",
        "colab_type": "code",
        "colab": {
          "base_uri": "https://localhost:8080/",
          "height": 34
        },
        "outputId": "bad3bb2c-9228-4a79-de30-49d0462e0a8e"
      },
      "source": [
        "a = torch.ones(5)\n",
        "print(a)"
      ],
      "execution_count": null,
      "outputs": [
        {
          "output_type": "stream",
          "text": [
            "tensor([1., 1., 1., 1., 1.])\n"
          ],
          "name": "stdout"
        }
      ]
    },
    {
      "cell_type": "code",
      "metadata": {
        "id": "rmClIzl3dEOM",
        "colab_type": "code",
        "colab": {
          "base_uri": "https://localhost:8080/",
          "height": 34
        },
        "outputId": "ce3b5d52-33e9-44e2-a3df-98e25fa8a72e"
      },
      "source": [
        "b = a.numpy()\n",
        "print(b)"
      ],
      "execution_count": null,
      "outputs": [
        {
          "output_type": "stream",
          "text": [
            "[1. 1. 1. 1. 1.]\n"
          ],
          "name": "stdout"
        }
      ]
    },
    {
      "cell_type": "markdown",
      "metadata": {
        "id": "wmEquAzUdEOQ",
        "colab_type": "text"
      },
      "source": [
        "Xem giá trị mảng bị thay đổi như thế nào"
      ]
    },
    {
      "cell_type": "code",
      "metadata": {
        "id": "Sg2LPbqvdEOQ",
        "colab_type": "code",
        "colab": {
          "base_uri": "https://localhost:8080/",
          "height": 51
        },
        "outputId": "fe224233-3bfd-48a8-8c53-d3b4d5c2fcba"
      },
      "source": [
        "a.add_(1)\n",
        "print(a)\n",
        "print(b)"
      ],
      "execution_count": null,
      "outputs": [
        {
          "output_type": "stream",
          "text": [
            "tensor([2., 2., 2., 2., 2.])\n",
            "[2. 2. 2. 2. 2.]\n"
          ],
          "name": "stdout"
        }
      ]
    },
    {
      "cell_type": "markdown",
      "metadata": {
        "id": "fSYSQtaedEOU",
        "colab_type": "text"
      },
      "source": [
        "Chuyển đổi NumPy Array sang Torch Tensor và xem Tensor bị thay đổi như thế nào khi thay đổi giá trị của mảng\n",
        "\n"
      ]
    },
    {
      "cell_type": "code",
      "metadata": {
        "id": "XcOQYZ2qdEOU",
        "colab_type": "code",
        "colab": {
          "base_uri": "https://localhost:8080/",
          "height": 51
        },
        "outputId": "84c33ef8-d2c3-4d20-c24c-76b32af6af5c"
      },
      "source": [
        "import numpy as np\n",
        "a = np.ones(5)\n",
        "b = torch.from_numpy(a)\n",
        "np.add(a, 1, out=a)\n",
        "print(a)\n",
        "print(b)"
      ],
      "execution_count": null,
      "outputs": [
        {
          "output_type": "stream",
          "text": [
            "[2. 2. 2. 2. 2.]\n",
            "tensor([2., 2., 2., 2., 2.], dtype=torch.float64)\n"
          ],
          "name": "stdout"
        }
      ]
    },
    {
      "cell_type": "markdown",
      "metadata": {
        "id": "Llx7_TUbdEOX",
        "colab_type": "text"
      },
      "source": [
        "Ngoại trừ CharTensor, mọi kiểu Tensor của Torch đều có thể chuyển đổi qua lại với NumPy\n",
        "\n",
        "CUDA Tensor\n",
        "------------\n",
        "\n",
        "Tensor có thể chuyển sang mọi thiết bị với phương thức ``.to``\n",
        "\n"
      ]
    },
    {
      "cell_type": "code",
      "metadata": {
        "id": "M-bd8uXSdEOY",
        "colab_type": "code",
        "colab": {
          "base_uri": "https://localhost:8080/",
          "height": 51
        },
        "outputId": "2cc4a4e8-24e7-4c6e-86a6-42b6272accba"
      },
      "source": [
        "if torch.cuda.is_available():\n",
        "    device = torch.device(\"cuda\")          # a CUDA device object\n",
        "    y = torch.ones_like(x, device=device)  # directly create a tensor on GPU\n",
        "    x = x.to(device)                       # or just use strings ``.to(\"cuda\")``\n",
        "    z = x + y\n",
        "    print(z)\n",
        "    print(z.to(\"cpu\", torch.double))       # ``.to`` can also change dtype together!"
      ],
      "execution_count": null,
      "outputs": [
        {
          "output_type": "stream",
          "text": [
            "tensor([1.3834], device='cuda:0')\n",
            "tensor([1.3834], dtype=torch.float64)\n"
          ],
          "name": "stdout"
        }
      ]
    }
  ]
}